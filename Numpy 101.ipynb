{
 "cells": [
  {
   "cell_type": "markdown",
   "metadata": {
    "collapsed": true
   },
   "source": [
    "From here https://docs.scipy.org/doc/numpy/reference/index.html"
   ]
  },
  {
   "cell_type": "code",
   "execution_count": 2,
   "metadata": {},
   "outputs": [
    {
     "name": "stdout",
     "output_type": "stream",
     "text": [
      "1.15.4\n"
     ]
    }
   ],
   "source": [
    "import numpy as np\n",
    "print (np.__version__)"
   ]
  },
  {
   "cell_type": "markdown",
   "metadata": {},
   "source": [
    "## The N-dimensional array (ndarray)\n",
    "\n",
    "https://docs.scipy.org/doc/numpy/reference/arrays.ndarray.html"
   ]
  },
  {
   "cell_type": "code",
   "execution_count": 13,
   "metadata": {
    "collapsed": true
   },
   "outputs": [],
   "source": [
    "#A 2-dimensional array of size 2 x 3, composed of 4-byte integer elements:\n",
    "x = np.array([[1, 2, 3], [4, 5, 6]], np.int32)"
   ]
  },
  {
   "cell_type": "code",
   "execution_count": 14,
   "metadata": {},
   "outputs": [
    {
     "name": "stdout",
     "output_type": "stream",
     "text": [
      "type(x): <class 'numpy.ndarray'>\n",
      "x.shape: (2, 3)\n",
      "x.dtype: int32\n"
     ]
    }
   ],
   "source": [
    "print(f'type(x): {type(x)}')\n",
    "print(f'x.shape: {x.shape}')\n",
    "print(f'x.dtype: {x.dtype}')"
   ]
  },
  {
   "cell_type": "code",
   "execution_count": 15,
   "metadata": {},
   "outputs": [
    {
     "name": "stdout",
     "output_type": "stream",
     "text": [
      "x[1, 2]: 6\n"
     ]
    }
   ],
   "source": [
    "# The element of x in the *second* row, *third* column, namely, 6.\n",
    "print(f'x[1, 2]: {x[1, 2]}')"
   ]
  },
  {
   "cell_type": "code",
   "execution_count": 16,
   "metadata": {},
   "outputs": [
    {
     "name": "stdout",
     "output_type": "stream",
     "text": [
      "y: [2 5]\n",
      "type(y): <class 'numpy.ndarray'>\n",
      "y.shape: (2,)\n",
      "\n",
      "y: [9 5]\n",
      "\n",
      "x: [[1 9 3]\n",
      " [4 5 6]]\n"
     ]
    }
   ],
   "source": [
    "y = x[:,1] # row:all, column: *second*.\n",
    "print(f'y: {y}')\n",
    "print(f'type(y): {type(y)}')\n",
    "print(f'y.shape: {y.shape}')\n",
    "print()\n",
    "\n",
    "y[0] = 9 # this also changes the corresponding element in x\n",
    "print(f'y: {y}')\n",
    "print()\n",
    "\n",
    "print(f'x: {x}')"
   ]
  },
  {
   "cell_type": "markdown",
   "metadata": {},
   "source": [
    "### Array attributes"
   ]
  },
  {
   "cell_type": "markdown",
   "metadata": {},
   "source": [
    "#### Memory layout"
   ]
  },
  {
   "cell_type": "code",
   "execution_count": 32,
   "metadata": {},
   "outputs": [
    {
     "name": "stdout",
     "output_type": "stream",
     "text": [
      "[[1 9 3]\n",
      " [4 5 6]]\n",
      "****************\n",
      "ndarray.flags\tInformation about the memory layout of the array.\n",
      "  C_CONTIGUOUS : True\n",
      "  F_CONTIGUOUS : False\n",
      "  OWNDATA : True\n",
      "  WRITEABLE : True\n",
      "  ALIGNED : True\n",
      "  WRITEBACKIFCOPY : False\n",
      "  UPDATEIFCOPY : False\n",
      "ndarray.shape\tTuple of array dimensions.\n",
      "(2, 3)\n",
      "ndarray.strides\tTuple of bytes to step in each dimension when traversing an array.\n",
      "(12, 4)\n",
      "ndarray.ndim\tNumber of array dimensions.\n",
      "2\n",
      "ndarray.data\tPython buffer object pointing to the start of the array’s data.\n",
      "<memory at 0x000001F7140C0630>\n",
      "ndarray.size\tNumber of elements in the array.\n",
      "6\n",
      "ndarray.itemsize\tLength of one array element in bytes.\n",
      "4\n",
      "ndarray.nbytes\tTotal bytes consumed by the elements of the array.\n",
      "24\n",
      "ndarray.base\tBase object if memory is from some other object.\n",
      "None\n"
     ]
    }
   ],
   "source": [
    "print(f'{x}')\n",
    "print(f'****************')\n",
    "\n",
    "print(f'ndarray.flags\tInformation about the memory layout of the array.')\n",
    "print(f'{x.flags}')\n",
    "print(f'ndarray.shape\tTuple of array dimensions.')\n",
    "print(f'{x.shape}')\n",
    "print(f'ndarray.strides\tTuple of bytes to step in each dimension when traversing an array.')\n",
    "print(f'{x.strides}')\n",
    "print(f'ndarray.ndim\tNumber of array dimensions.')\n",
    "print(f'{x.ndim}')\n",
    "print(f'ndarray.data\tPython buffer object pointing to the start of the array’s data.')\n",
    "print(f'{x.data}')\n",
    "print(f'ndarray.size\tNumber of elements in the array.')\n",
    "print(f'{x.size}')\n",
    "print(f'ndarray.itemsize\tLength of one array element in bytes.')\n",
    "print(f'{x.itemsize}')         \n",
    "print(f'ndarray.nbytes\tTotal bytes consumed by the elements of the array.')\n",
    "print(f'{x.nbytes}')\n",
    "print(f'ndarray.base\tBase object if memory is from some other object.')\n",
    "print(f'{x.base}')"
   ]
  },
  {
   "cell_type": "markdown",
   "metadata": {},
   "source": [
    "#### Data type"
   ]
  },
  {
   "cell_type": "code",
   "execution_count": 33,
   "metadata": {},
   "outputs": [
    {
     "name": "stdout",
     "output_type": "stream",
     "text": [
      "x.dtype: int32\n"
     ]
    }
   ],
   "source": [
    "print(f'x.dtype: {x.dtype}')"
   ]
  },
  {
   "cell_type": "markdown",
   "metadata": {},
   "source": [
    "#### Other attributes"
   ]
  },
  {
   "cell_type": "code",
   "execution_count": 34,
   "metadata": {},
   "outputs": [
    {
     "name": "stdout",
     "output_type": "stream",
     "text": [
      "[[1 9 3]\n",
      " [4 5 6]]\n",
      "****************\n",
      "ndarray.T\tThe transposed array.\n",
      "[[1 4]\n",
      " [9 5]\n",
      " [3 6]]\n",
      "ndarray.real\tThe real part of the array.\n",
      "[[1 9 3]\n",
      " [4 5 6]]\n",
      "ndarray.imag\tThe imaginary part of the array.\n",
      "[[0 0 0]\n",
      " [0 0 0]]\n",
      "ndarray.flat\tA 1-D iterator over the array.\n",
      "<numpy.flatiter object at 0x000001F712FFD790>\n",
      "ndarray.ctypes\tAn object to simplify the interaction of the array with the ctypes module.\n",
      "<numpy.flatiter object at 0x000001F712FFD790>\n"
     ]
    }
   ],
   "source": [
    "\n",
    "print(f'{x}')\n",
    "print(f'****************')\n",
    "\n",
    "print(f'ndarray.T\tThe transposed array.')\n",
    "print(f'{x.T}')\n",
    "print(f'ndarray.real\tThe real part of the array.')\n",
    "print(f'{x.real}')\n",
    "print(f'ndarray.imag\tThe imaginary part of the array.')\n",
    "print(f'{x.imag}')\n",
    "print(f'ndarray.flat\tA 1-D iterator over the array.')\n",
    "print(f'{x.flat}')\n",
    "print(f'ndarray.ctypes\tAn object to simplify the interaction of the array with the ctypes module.')\n",
    "print(f'{x.flat}')"
   ]
  },
  {
   "cell_type": "markdown",
   "metadata": {},
   "source": [
    "### Array methods"
   ]
  },
  {
   "cell_type": "markdown",
   "metadata": {},
   "source": [
    "#### Array conversion"
   ]
  },
  {
   "cell_type": "code",
   "execution_count": 74,
   "metadata": {},
   "outputs": [
    {
     "name": "stdout",
     "output_type": "stream",
     "text": [
      "[[1 2 3]\n",
      " [4 5 6]]\n",
      "****************\n",
      "\n",
      "ndarray.item(*args)\tCopy an element of an array to a standard Python scalar and return it.\n",
      "2\n",
      "\n",
      "ndarray.tolist()\tReturn the array as an a.ndim-levels deep nested list of Python scalars.\n",
      "[[1, 2, 3], [4, 5, 6]]\n",
      "\n",
      "ndarray.itemset(*args)\tInsert scalar into an array (scalar is cast to array’s dtype, if possible)\n",
      "None\n",
      "[[  1   2 555]\n",
      " [  4   5   6]]\n",
      "\n",
      "ndarray.tostring([order])\tConstruct Python bytes containing the raw data bytes in the array.\n",
      "b'\\x01\\x00\\x00\\x00\\x02\\x00\\x00\\x00+\\x02\\x00\\x00\\x04\\x00\\x00\\x00\\x05\\x00\\x00\\x00\\x06\\x00\\x00\\x00'\n",
      "\n",
      "ndarray.tobytes([order])\tConstruct Python bytes containing the raw data bytes in the array.\n",
      "b'\\x01\\x00\\x00\\x00\\x02\\x00\\x00\\x00+\\x02\\x00\\x00\\x04\\x00\\x00\\x00\\x05\\x00\\x00\\x00\\x06\\x00\\x00\\x00'\n",
      "ndarray.tofile(fid[, sep, format])\tWrite array to a file as text or binary (default).\n",
      "ndarray.dump(file)\tDump a pickle of the array to the specified file.\n",
      "ndarray.dumps()\tReturns the pickle of the array as a string.\n",
      "\n",
      "ndarray.astype(dtype[, order, casting, …])\tCopy of the array, cast to a specified type.\n",
      "[[  1.   2. 555.]\n",
      " [  4.   5.   6.]]\n",
      "\n",
      "ndarray.byteswap([inplace])\tSwap the bytes of the array elements\n",
      "[[ 16777216  33554432 721551360]\n",
      " [ 67108864  83886080 100663296]]\n",
      "\n",
      "ndarray.copy([order])\tReturn a copy of the array.\n",
      "[[  1   2 555]\n",
      " [  4   5   6]]\n",
      "\n",
      "ndarray.view([dtype, type])\tNew view of array with the same data.\n",
      "[[  1   2 555]\n",
      " [  4   5   6]]\n",
      "\n",
      "ndarray.getfield(dtype[, offset])\tReturns a field of the given array as a certain type.\n",
      "[[ 4.24399158e-314  1.17770766e-311  8.48798344e-314]\n",
      " [ 1.06099790e-313  1.27319747e-313 -1.32827788e+297]]\n",
      "\n",
      "ndarray.setflags([write, align, uic])\tSet array flags WRITEABLE, ALIGNED, (WRITEBACKIFCOPY and UPDATEIFCOPY), respectively.\n",
      "None\n",
      "\n",
      "ndarray.fill(value)\tFill the array with a scalar value.\n",
      "[[111 111 111]\n",
      " [111 111 111]]\n"
     ]
    }
   ],
   "source": [
    "#A 2-dimensional array of size 2 x 3, composed of 4-byte integer elements:\n",
    "x = np.array([[1, 2, 3], [4, 5, 6]], np.int32)\n",
    "print(f'{x}')\n",
    "print(f'****************\\n')\n",
    "\n",
    "print(f'ndarray.item(*args)\tCopy an element of an array to a standard Python scalar and return it.')\n",
    "print(f'{x.item(1)}\\n')\n",
    "\n",
    "print(f'ndarray.tolist()\tReturn the array as an a.ndim-levels deep nested list of Python scalars.')\n",
    "print(f'{x.tolist()}\\n')\n",
    "\n",
    "print(f'ndarray.itemset(*args)\tInsert scalar into an array (scalar is cast to array’s dtype, if possible)')\n",
    "print(f'{x.itemset(2,555)}')\n",
    "print(f'{x}\\n')\n",
    "\n",
    "print(f'ndarray.tostring([order])\tConstruct Python bytes containing the raw data bytes in the array.')\n",
    "print(f'{x.tostring()}\\n')\n",
    "\n",
    "print(f'ndarray.tobytes([order])\tConstruct Python bytes containing the raw data bytes in the array.')\n",
    "print(f'{x.tobytes()}')\n",
    "\n",
    "print(f'ndarray.tofile(fid[, sep, format])\tWrite array to a file as text or binary (default).')\n",
    "print(f'ndarray.dump(file)\tDump a pickle of the array to the specified file.')\n",
    "print(f'ndarray.dumps()\tReturns the pickle of the array as a string.\\n')\n",
    "\n",
    "\n",
    "print(f'ndarray.astype(dtype[, order, casting, …])\tCopy of the array, cast to a specified type.')\n",
    "print(f'{x.astype(float)}\\n')\n",
    "\n",
    "print(f'ndarray.byteswap([inplace])\tSwap the bytes of the array elements')\n",
    "print(f'{x.byteswap()}\\n')\n",
    "\n",
    "print(f'ndarray.copy([order])\tReturn a copy of the array.')\n",
    "print(f'{x.copy()}\\n')\n",
    "\n",
    "print(f'ndarray.view([dtype, type])\tNew view of array with the same data.')\n",
    "print(f\"{x.view(dtype=np.int32,type=np.ndarray)}\\n\")\n",
    "\n",
    "print(f'ndarray.getfield(dtype[, offset])\tReturns a field of the given array as a certain type.')\n",
    "print(f'{x.getfield(np.float64)}\\n')\n",
    "\n",
    "print(f'ndarray.setflags([write, align, uic])\tSet array flags WRITEABLE, ALIGNED, (WRITEBACKIFCOPY and UPDATEIFCOPY), respectively.')\n",
    "print(f'{x.setflags(write=True)}\\n')\n",
    "x.itemset(2,222)\n",
    "\n",
    "print(f'ndarray.fill(value)\tFill the array with a scalar value.')\n",
    "x.fill(111)\n",
    "print(f'{x}')"
   ]
  },
  {
   "cell_type": "markdown",
   "metadata": {},
   "source": [
    "#### Shape manipulation"
   ]
  },
  {
   "cell_type": "code",
   "execution_count": 106,
   "metadata": {},
   "outputs": [
    {
     "name": "stdout",
     "output_type": "stream",
     "text": [
      "[[1 2 3]\n",
      " [4 5 6]]\n",
      "****************\n",
      "\n",
      "ndarray.reshape(shape[, order])\tReturns an array containing the same data with a new shape.\n",
      "[1 2 3 4 5 6]\n",
      "\n",
      "[[1 2]\n",
      " [3 4]\n",
      " [5 6]]\n",
      "\n",
      "ndarray.resize(new_shape[, refcheck])\tChange shape and size of array in-place.\n",
      "None\n",
      "[[1 2]\n",
      " [3 4]\n",
      " [5 6]]\n",
      "\n",
      "ndarray.transpose()\tReturns a view of the array with axes transposed.\n",
      "[[1 3 5]\n",
      " [2 4 6]]\n",
      "\n",
      "ndarray.swapaxes(axis1, axis2)\tReturn a view of the array with axis1 and axis2 interchanged.\n",
      "[[1 2]\n",
      " [3 4]\n",
      " [5 6]]\n",
      "[[1 3 5]\n",
      " [2 4 6]]\n",
      "\n",
      "ndarray.flatten([order])\tReturn a copy of the array collapsed into one dimension.\n",
      "[1 2 3 4 5 6]\n",
      "<class 'numpy.ndarray'>\n",
      "\n",
      "ndarray.ravel([order])\tReturn a flattened array.\n",
      "[1 2 3 4 5 6]\n",
      "<class 'numpy.ndarray'>\n",
      "\n",
      "ndarray.squeeze([axis])\tRemove single-dimensional entries from the shape of a.\n",
      "[[5 6]]\n",
      "[5 6]\n",
      "\n"
     ]
    }
   ],
   "source": [
    "#For reshape, resize, and transpose, the single tuple argument may be replaced with n integers which will be interpreted as an n-tuple.\n",
    "\n",
    "#A 2-dimensional array of size 2 x 3, composed of 4-byte integer elements:\n",
    "x = np.array([[1, 2, 3], [4, 5, 6]], np.int32)\n",
    "print(f'{x}')\n",
    "print(f'****************\\n')\n",
    "\n",
    "print(f'ndarray.reshape(shape[, order])\tReturns an array containing the same data with a new shape.')\n",
    "print(f'{x.reshape(6)}\\n')\n",
    "print(f'{x.reshape(3,2)}\\n')\n",
    "      \n",
    "print(f'ndarray.resize(new_shape[, refcheck])\tChange shape and size of array in-place.')\n",
    "print(f'{x.resize(3,2)}')\n",
    "print(f'{x}\\n')\n",
    "      \n",
    "print(f'ndarray.transpose()\tReturns a view of the array with axes transposed.')\n",
    "print(f'{x.transpose()}\\n')\n",
    "      \n",
    "print(f'ndarray.swapaxes(axis1, axis2)\tReturn a view of the array with axis1 and axis2 interchanged.')\n",
    "print(f'{x}')\n",
    "print(f'{x.swapaxes(1,0)}\\n')\n",
    "      \n",
    "print(f'ndarray.flatten([order])\tReturn a copy of the array collapsed into one dimension.')\n",
    "print(f'{x.flatten()}')\n",
    "print(f'{type(x.flatten())}\\n')\n",
    "      \n",
    "print(f'ndarray.ravel([order])\tReturn a flattened array.')\n",
    "print(f'{x.ravel()}')\n",
    "print(f'{type(x.ravel())}\\n')\n",
    "      \n",
    "print(f'ndarray.squeeze([axis])\tRemove single-dimensional entries from the shape of a.')\n",
    "print(f'{x[2:,]}')\n",
    "print(f'{x[2:,].squeeze()}\\n')"
   ]
  },
  {
   "cell_type": "code",
   "execution_count": null,
   "metadata": {
    "collapsed": true
   },
   "outputs": [],
   "source": []
  }
 ],
 "metadata": {
  "kernelspec": {
   "display_name": "Python 3",
   "language": "python",
   "name": "python3"
  },
  "language_info": {
   "codemirror_mode": {
    "name": "ipython",
    "version": 3
   },
   "file_extension": ".py",
   "mimetype": "text/x-python",
   "name": "python",
   "nbconvert_exporter": "python",
   "pygments_lexer": "ipython3",
   "version": "3.6.5"
  }
 },
 "nbformat": 4,
 "nbformat_minor": 2
}
